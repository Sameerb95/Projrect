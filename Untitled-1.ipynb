{
 "cells": [
  {
   "cell_type": "code",
   "execution_count": 11,
   "metadata": {},
   "outputs": [],
   "source": [
    "a = {'English': ['Turmeric Powder', 'Kumkum', 'Agarbatti', 'Karpur (Camphor)', 'Dhoop', 'Kalasam', 'Honey', 'Dry Fruits(mixed )', 'Nava Dhanya', 'Rice', 'Rice Flour', 'Sugar', 'White Thread( 3 LAYERS)', 'Blouse Pieces', 'Saree', 'Dharbe', 'Betal Nuts', 'Deepam Oil', 'Cotton Wicks', 'Round Cotton Wick', 'Match Box', 'Homa Sticks', 'Harali Samidha', 'Navagraha Samidha', 'Havan Samagri', 'Mouli', 'Danavantry Bag', 'Battada harallu', 'White Mustard', 'Colors', 'Clay Deepa', 'Ganga Jal', 'Dry Coconut', 'Gomutra', 'Dothi', 'Reshme Vastra', 'RedCloth ( Taaval)', 'Chandhan Powder', 'Janivar', 'Black til', 'dhonne', 'Gejje Vastra', 'Lavancha', 'Vasthu Prathima', 'Donne Plates', 'Ghee', 'Vibhoodi', 'Rose water', 'Box Jaggery', 'Homa Kunda', 'Turmeric/Haldi sticks', 'Karjura', 'Mixed Fruits', 'Marigold Garland', 'Chamanthi Garland', 'Tulasi Garland', 'Rose Garland', 'Loose Flowers', 'Flower Garland (maala)', 'Coconuts', 'Betal Leaves', 'Ghee', 'Milk', 'Curd', 'Mango Leaves', 'Banana Leaves', 'Banana Trees', 'Machi Patri', 'Pumpkin', 'Lemon', 'Green Grass', 'Banana', 'Bell Leaves'], 'Hindi': ['हल्दी', 'कुमकुम', 'अगरबत्ती', 'कपूर', 'धुप', 'कास्केट', 'शहद', 'मेवे', 'नव धन्या', 'चावल', 'चावल का आटा', 'चीनी', 'सफेद धागा', 'ब्लाउज के टुकड़े', 'साड़ी', 'धरबे', 'सुपारी', 'दीपक का तेल', 'कपास की ईंटें', 'कॉटन विक्स राउंड', 'दियासलाई', 'होमा लाठी', 'हराली समिधा', 'नवग्रह समिधा', 'वह समगरी है', 'मौली', 'डोनवैंट्री बैग', 'बाल्ड हार', 'सफेद सरसों', 'रंग', 'मिट्टी का दीपक', 'गंगा जल', 'सूखा नारियल', 'गोमूत्र', 'धोती', 'रेशमा एक कपड़ा है', 'रेडक्लोथ (तावल)', 'चंदन पाउडर', 'धागा', 'ब्लैक तक', 'डोना प्लेट', 'कपड़ा', 'Lavancha', 'वास्तु प्रथिमा', 'डोने प्लेट्स', 'घी', 'विभूति', 'गुलाब जल', 'बॉक्स गुड़', 'होमा कुंडा', 'हल्दी / हल्दी की छड़ें', 'खर्जुरा', 'मिश्रित फल', 'मैरीगोल्ड गारलैंड', 'गारलैंड', 'तुलसी की माला', 'गुलाब की माला', 'ढीले फूल', 'फूल माला (माला)', 'नारियल', 'बेताल पत्तियां', 'घी', 'दूध', 'दही', 'आम की पत्तियाँ', 'केले के पत्ते', 'केले के पेड़', '\\nफ्लाई दुल्हन\\n', 'कद्दू', 'नींबू', 'हरी घास', 'केला', 'बेल पत्तियां'], 'Telugu': ['పసుపు', 'కుంకుమ', 'అగర్బత్తి', 'కర్పూరం', 'దూప్', 'కలశం', 'తేనె', 'పొడి పండ్లు', 'నవ ధన్యా', 'రైస్', 'బియ్యం పిండి', 'చక్కెర', 'తెలుపు దారం', 'జాకెట్టు ముక్కలు', 'చీర', 'ధర్బ్', 'వక్కలు', 'దీపం నునే', 'వత్తులు', 'గుండ్రంగా వున్నా వత్తులు', 'అగ్గిపెట్టి', 'హోమం కట్టెలు', 'రాగి కట్టెలు', 'నవగ్రహ సమిదా', 'హోమం సామాగ్రి', 'నొమ్ములు దారము', 'హోమ అవ్వుషదాలు', 'పేలాలు', 'తెలుపు ఆవాలు', 'రంగులు', 'మట్టి దీపం', 'గంగ జలం', 'ఎండు కొబ్బరి', 'ఆవు మూత్రం/పంచితం', 'పంచె', 'పట్టు వస్త్రం', 'ఎర్ర తవాల్', 'గంధం', 'జేంజ్జము', 'నల్ల నువ్వులు', 'దొన్నెలు', 'పత్తి వస్త్రము', 'లవంచా', 'వస్తు ప్రతిమ', 'డోన్ ప్లేట్లు', 'నెయ్యి', 'విభూది', 'రోజ్ వాటర్', 'బెల్లం', 'హోమ కుండ', 'పసుపు కొమ్ములు', 'ఎండు కార్జూరాల', 'మిశ్రమ పండ్లు', 'చామంతి పూలు', 'చామంతి పూలు', 'తులసి మల', 'గులాబీ మల', 'పువ్వులు', 'పూల మల', 'కొబ్బరికాయలు', 'తమలపాకులు', 'నెయ్యి', 'పాలు', 'పెరుగు', 'మామిడి ఆకులు', 'అరటి ఆకులు', 'అరటి చెట్లు', '\\nఫ్లై వధువు\\n', 'గుమ్మడికాయ', 'నిమ్మకాయ', 'పచ్చ గడ్డి', 'అరటి', 'బిల్వ'], 'Tamil': ['மஞ்சள்', 'குங்குமம்', 'ஊதுபத்தி', 'கற்பூரம்', 'சாம்பிராணி', 'கலசம்', 'தேன்', 'உலர் பழங்கள்', 'நவ தானியங்கள்', 'அரிசி', 'அரிசி மாவு', 'சர்க்கரை', 'வெள்ளை நூல்', 'பிளவுஸ் துண்டுகள்', 'புடவை', 'தர்பே', 'பாக்கு', 'தீபம் எண்ணெய்', 'காட்டன் திரி', 'சுற்று காட்டன்', 'தீப்பெட்டி', 'ஹோமா குச்சிகள்', 'அரச சமிதா', 'நவகிரக சமிதா', 'ஹவன் சப்ளைஸ்', 'மோலி', 'தனவாந்த்ரி பை', 'நெல்பொரி', 'வெண் கடுகு', 'நிறங்கள்', 'அகல் விளக்கு', 'நதி நீர்', 'உலர்ந்த தேங்காய்', 'பசு சிறுநீர்', 'வேட்டி', 'பட்டு உடை', 'சிவப்புதுண்டு', 'சந்தனம் பவுடர்', 'பூனல்', 'கருப்பு எள்', 'தொன்னை', 'கஜ்ரா வஸ்திரம்', 'வெற்றி வேர்', 'வஸ்து பிரதிமா', 'தொன்னை தட்டுகள்', 'நெய்', 'விபூதி', 'பன்னீர்', 'பெட்டி வெல்லம்', 'ஹோமா குந்தா', 'மஞ்சள் / ஹால்டி குச்சிகள்', 'பேரீச்சம்பழம்', 'கலப்பு பழங்கள்', 'மேரிகோல்ட் மாலை', 'சாமவுண்டி மாலை', 'துளசி மாலை', 'ரோஜா மாலை', 'தளர்வான மலர்கள்', 'மலர் மாலை', 'தேங்காய்', 'வெற்றிலை', 'நெய்', 'பால்', 'தயிர்', 'மா இலைகள்', 'வாழை இலைகள்', 'வாழை மரங்கள்', 'மூலிகை இலைகள்', 'பூசணிக்காய்', 'எலுமிச்சை', 'அறுகம்புல்', 'வாழைபழம்', 'பெல் இலைகள்'], 'Kannada': ['ಅರಿಶಿನ', 'ಕುಮ್ಕುಮ್', 'ಅಗರಬತ್ತಿ', 'ಕರ್ಪೂರ', 'ಧೂಪ್', 'ಕಲ್ಶಾ', 'ಜೇನು', 'ಒಣ ಹಣ್ಣುಗಳು', 'ನವ ಧನ್ಯಾ', 'ಅಕ್ಕಿ', 'ಅಕ್ಕಿ ಹಿಟ್ಟು', 'ಸಕ್ಕರೆ', 'ಬಿಳಿ ದಾರ', 'ಕುಪ್ಪಸ ತುಂಡುಗಳು', 'ಸೀರೆ', 'ಧರ್ಬೆ', 'ಅಡಿಕೆ', 'ದೀಪದ ಎಣ್ಣೆ', 'ಹತ್ತಿ ವಿಕ್ಸ್', 'ಸುತ್ತಿನ ಹತ್ತಿ ವಿಕ್ಸ್', 'ಮ್ಯಾಚ್\\u200cಬಾಕ್ಸ್', 'ಹೋಮಾ ಕಡ್ಡಿಗಳು', 'ಹರಾಲಿ ಸಮಿದಾ', 'ನವಗ್ರಹ ಸಮಿದಾ', 'ಹೋಮಾ ಸಮಾಗ್ರಿ', 'ಮೊಲ್ಲಿ', 'ದಾನವಂತ್ರಿ ಬ್ಯಾಗ್', 'ಬತ್ತಡ ಹರಲ್ಲು', 'ಬಿಳಿ ಸಾಸಿವೆ', 'ಬಣ್ಣಗಳು', 'ಕ್ಲೇ ದೀಪಾ', 'ಗಂಗಾ ನೀರು', 'ಒಣ ತೆಂಗಿನಕಾಯಿ', 'ಹಸು ಮೂತ್ರ', 'ದೋತಿ', 'ರೇಷ್ಮೆ ವಸ್ತ್ರ', 'ಕೆಂಪು ಟವೆಲ್', 'ಚಂದನ್ ಪೌಡರ್', 'ಜನ್ವಾರ', 'ಕಪ್ಪು ಎಳ್ಳು', 'ಧೋನ್ನೆ', 'ಹತ್ತಿ ಹಾರ', 'ಲವಂಚ', 'ವಾಸ್ತು ಪ್ರತಿಮಾ', 'ಡೊನ್ನೆ ಪ್ಲೇಟ್\\u200cಗಳು', 'ತುಪ್ಪ', 'ವಿಭೂದಿ', 'ಪನ್ನೀರ್', 'ಬಾಕ್ಸ್ ಬೆಲ್ಲ', 'ಹೋಮ ಕುಂದ', 'ಅರಿಶಿನ / ಹಲ್ಡಿ ತುಂಡುಗಳು', 'ಕರ್ಜುರಾ', 'ಮಿಶ್ರ ಹಣ್ಣುಗಳು', 'ಶಾಮಂತಿ ಹಾರ', 'ಮಾರಿಗೋಲ್ಡ್ ಗಾರ್ಲ್ಯಾಂಡ್', 'ತುಳಸಿ ಹಾರ', 'ರೋಸ್ ಹಾರ', 'ಹೂವುಗಳು ( loose )', 'ಹೂವಿನ ಹಾರ', 'ತೆಂಗಿನಕಾಯಿ', 'ಎಲೆಗಳು', 'ತುಪ್ಪ', 'ಹಾಲು', 'ಮೊಸರು', 'ಮಾವಿನ ಎಲೆಗಳು', 'ಬಾಳೆ ಎಲೆಗಳು', 'ಬಾಳೆ ಮರಗಳು', 'ಪತ್ರ್ರೆ', 'ಕುಂಬಳಕಾಯಿ', 'ನಿಂಬೆಹಣ್ಣು', 'ಹಸಿರು ಹುಲ್ಲು', 'ಬಾಳೆಹಣ್ಣು', 'ಬಿಲ್ವಾ ಪತ್ರ್ರೆ'], 'Marathi': ['हळद पावडर', 'कुमकुम', 'अगरबत्ती', 'कर्पूर (कापूर)', 'धूप', 'कलासम', 'मध', 'सुकी फळे (मिश्र)', 'नवा धन्या', 'तांदूळ', 'तांदळाचे पीठ', 'साखर', 'पांढरा धागा (3 स्तर)', 'ब्लाउजचे तुकडे', 'साडी', 'धारबे', 'सुपारी नट्स', 'दिपम तेल', 'कापूस विक्स', 'गोलाकार कापूस वात', 'मॅच बॉक्स', 'होम स्टिक्स', 'हरली समिधा', 'नवग्रह समिधा', 'हवन समग्री', 'माऊली', 'दानवंती पिशवी', 'बट्टाडा हरल्लु', 'पांढरी मोहरी', 'रंग', 'मातीची दीपा', 'गंगाजल', 'सुके खोबरे', 'गोमुत्र', 'दोथी', 'रेशमे वस्त्र', 'लाल कपडा (तावल)', 'चांदण पावडर', 'जानिवार', 'काळी तीळ', 'धोने', 'गेज्जे वस्त्र', 'लावणाचा', 'वास्तु प्रथमा', 'drone प्लेट्स', 'तूप', 'विभुडी', 'गुलाब पाणी', 'बॉक्स गूळ', 'होम कुंडा', 'हळद/हळदीच्या काड्या', 'करजुरा', 'मिश्र फळे', 'झेंडू हार', 'चामंती माला', 'तुळशीची माला', 'गुलाबाची माळा', 'सैल फुले', 'फुलांचा हार (माला)', 'नारळ', 'बेताल पाने', 'तूप', 'दूध', 'दही', 'आंब्याची पाने', 'केळीची पाने', 'केळीची झाडे', 'माची पत्री', 'भोपळा', 'लिंबू', 'हिरवे गवत', 'बेल पाने', 'केळी']}"
   ]
  },
  {
   "cell_type": "code",
   "execution_count": 3,
   "metadata": {},
   "outputs": [],
   "source": [
    "import pandas as pd"
   ]
  },
  {
   "cell_type": "code",
   "execution_count": 12,
   "metadata": {},
   "outputs": [
    {
     "name": "stdout",
     "output_type": "stream",
     "text": [
      "English 73\n",
      "Hindi 73\n",
      "Telugu 73\n",
      "Tamil 73\n",
      "Kannada 73\n",
      "Marathi 73\n"
     ]
    }
   ],
   "source": [
    "for i in a:\n",
    "    print(i,len(a[i]))"
   ]
  },
  {
   "cell_type": "code",
   "execution_count": 13,
   "metadata": {},
   "outputs": [],
   "source": [
    "df = pd.DataFrame(a)"
   ]
  },
  {
   "cell_type": "code",
   "execution_count": 14,
   "metadata": {},
   "outputs": [
    {
     "data": {
      "text/html": [
       "<div>\n",
       "<style scoped>\n",
       "    .dataframe tbody tr th:only-of-type {\n",
       "        vertical-align: middle;\n",
       "    }\n",
       "\n",
       "    .dataframe tbody tr th {\n",
       "        vertical-align: top;\n",
       "    }\n",
       "\n",
       "    .dataframe thead th {\n",
       "        text-align: right;\n",
       "    }\n",
       "</style>\n",
       "<table border=\"1\" class=\"dataframe\">\n",
       "  <thead>\n",
       "    <tr style=\"text-align: right;\">\n",
       "      <th></th>\n",
       "      <th>English</th>\n",
       "      <th>Hindi</th>\n",
       "      <th>Telugu</th>\n",
       "      <th>Tamil</th>\n",
       "      <th>Kannada</th>\n",
       "      <th>Marathi</th>\n",
       "    </tr>\n",
       "  </thead>\n",
       "  <tbody>\n",
       "    <tr>\n",
       "      <th>0</th>\n",
       "      <td>Turmeric Powder</td>\n",
       "      <td>हल्दी</td>\n",
       "      <td>పసుపు</td>\n",
       "      <td>மஞ்சள்</td>\n",
       "      <td>ಅರಿಶಿನ</td>\n",
       "      <td>हळद पावडर</td>\n",
       "    </tr>\n",
       "    <tr>\n",
       "      <th>1</th>\n",
       "      <td>Kumkum</td>\n",
       "      <td>कुमकुम</td>\n",
       "      <td>కుంకుమ</td>\n",
       "      <td>குங்குமம்</td>\n",
       "      <td>ಕುಮ್ಕುಮ್</td>\n",
       "      <td>कुमकुम</td>\n",
       "    </tr>\n",
       "    <tr>\n",
       "      <th>2</th>\n",
       "      <td>Agarbatti</td>\n",
       "      <td>अगरबत्ती</td>\n",
       "      <td>అగర్బత్తి</td>\n",
       "      <td>ஊதுபத்தி</td>\n",
       "      <td>ಅಗರಬತ್ತಿ</td>\n",
       "      <td>अगरबत्ती</td>\n",
       "    </tr>\n",
       "    <tr>\n",
       "      <th>3</th>\n",
       "      <td>Karpur (Camphor)</td>\n",
       "      <td>कपूर</td>\n",
       "      <td>కర్పూరం</td>\n",
       "      <td>கற்பூரம்</td>\n",
       "      <td>ಕರ್ಪೂರ</td>\n",
       "      <td>कर्पूर (कापूर)</td>\n",
       "    </tr>\n",
       "    <tr>\n",
       "      <th>4</th>\n",
       "      <td>Dhoop</td>\n",
       "      <td>धुप</td>\n",
       "      <td>దూప్</td>\n",
       "      <td>சாம்பிராணி</td>\n",
       "      <td>ಧೂಪ್</td>\n",
       "      <td>धूप</td>\n",
       "    </tr>\n",
       "    <tr>\n",
       "      <th>...</th>\n",
       "      <td>...</td>\n",
       "      <td>...</td>\n",
       "      <td>...</td>\n",
       "      <td>...</td>\n",
       "      <td>...</td>\n",
       "      <td>...</td>\n",
       "    </tr>\n",
       "    <tr>\n",
       "      <th>68</th>\n",
       "      <td>Pumpkin</td>\n",
       "      <td>कद्दू</td>\n",
       "      <td>గుమ్మడికాయ</td>\n",
       "      <td>பூசணிக்காய்</td>\n",
       "      <td>ಕುಂಬಳಕಾಯಿ</td>\n",
       "      <td>भोपळा</td>\n",
       "    </tr>\n",
       "    <tr>\n",
       "      <th>69</th>\n",
       "      <td>Lemon</td>\n",
       "      <td>नींबू</td>\n",
       "      <td>నిమ్మకాయ</td>\n",
       "      <td>எலுமிச்சை</td>\n",
       "      <td>ನಿಂಬೆಹಣ್ಣು</td>\n",
       "      <td>लिंबू</td>\n",
       "    </tr>\n",
       "    <tr>\n",
       "      <th>70</th>\n",
       "      <td>Green Grass</td>\n",
       "      <td>हरी घास</td>\n",
       "      <td>పచ్చ గడ్డి</td>\n",
       "      <td>அறுகம்புல்</td>\n",
       "      <td>ಹಸಿರು ಹುಲ್ಲು</td>\n",
       "      <td>हिरवे गवत</td>\n",
       "    </tr>\n",
       "    <tr>\n",
       "      <th>71</th>\n",
       "      <td>Banana</td>\n",
       "      <td>केला</td>\n",
       "      <td>అరటి</td>\n",
       "      <td>வாழைபழம்</td>\n",
       "      <td>ಬಾಳೆಹಣ್ಣು</td>\n",
       "      <td>बेल पाने</td>\n",
       "    </tr>\n",
       "    <tr>\n",
       "      <th>72</th>\n",
       "      <td>Bell Leaves</td>\n",
       "      <td>बेल पत्तियां</td>\n",
       "      <td>బిల్వ</td>\n",
       "      <td>பெல் இலைகள்</td>\n",
       "      <td>ಬಿಲ್ವಾ ಪತ್ರ್ರೆ</td>\n",
       "      <td>केळी</td>\n",
       "    </tr>\n",
       "  </tbody>\n",
       "</table>\n",
       "<p>73 rows × 6 columns</p>\n",
       "</div>"
      ],
      "text/plain": [
       "             English         Hindi      Telugu        Tamil         Kannada  \\\n",
       "0    Turmeric Powder         हल्दी       పసుపు       மஞ்சள்          ಅರಿಶಿನ   \n",
       "1             Kumkum        कुमकुम      కుంకుమ    குங்குமம்        ಕುಮ್ಕುಮ್   \n",
       "2          Agarbatti      अगरबत्ती   అగర్బత్తి     ஊதுபத்தி        ಅಗರಬತ್ತಿ   \n",
       "3   Karpur (Camphor)          कपूर     కర్పూరం     கற்பூரம்          ಕರ್ಪೂರ   \n",
       "4              Dhoop           धुप        దూప్   சாம்பிராணி            ಧೂಪ್   \n",
       "..               ...           ...         ...          ...             ...   \n",
       "68           Pumpkin         कद्दू  గుమ్మడికాయ  பூசணிக்காய்       ಕುಂಬಳಕಾಯಿ   \n",
       "69             Lemon         नींबू    నిమ్మకాయ    எலுமிச்சை      ನಿಂಬೆಹಣ್ಣು   \n",
       "70       Green Grass       हरी घास  పచ్చ గడ్డి   அறுகம்புல்    ಹಸಿರು ಹುಲ್ಲು   \n",
       "71            Banana          केला        అరటి     வாழைபழம்       ಬಾಳೆಹಣ್ಣು   \n",
       "72       Bell Leaves  बेल पत्तियां       బిల్వ  பெல் இலைகள்  ಬಿಲ್ವಾ ಪತ್ರ್ರೆ   \n",
       "\n",
       "           Marathi  \n",
       "0        हळद पावडर  \n",
       "1           कुमकुम  \n",
       "2         अगरबत्ती  \n",
       "3   कर्पूर (कापूर)  \n",
       "4              धूप  \n",
       "..             ...  \n",
       "68           भोपळा  \n",
       "69           लिंबू  \n",
       "70       हिरवे गवत  \n",
       "71        बेल पाने  \n",
       "72            केळी  \n",
       "\n",
       "[73 rows x 6 columns]"
      ]
     },
     "execution_count": 14,
     "metadata": {},
     "output_type": "execute_result"
    }
   ],
   "source": [
    "df"
   ]
  },
  {
   "cell_type": "code",
   "execution_count": 21,
   "metadata": {},
   "outputs": [
    {
     "data": {
      "text/html": [
       "<div>\n",
       "<style scoped>\n",
       "    .dataframe tbody tr th:only-of-type {\n",
       "        vertical-align: middle;\n",
       "    }\n",
       "\n",
       "    .dataframe tbody tr th {\n",
       "        vertical-align: top;\n",
       "    }\n",
       "\n",
       "    .dataframe thead th {\n",
       "        text-align: right;\n",
       "    }\n",
       "</style>\n",
       "<table border=\"1\" class=\"dataframe\">\n",
       "  <thead>\n",
       "    <tr style=\"text-align: right;\">\n",
       "      <th></th>\n",
       "      <th>English</th>\n",
       "      <th>Hindi</th>\n",
       "      <th>Telugu</th>\n",
       "      <th>Tamil</th>\n",
       "      <th>Kannada</th>\n",
       "      <th>Marathi</th>\n",
       "    </tr>\n",
       "  </thead>\n",
       "  <tbody>\n",
       "    <tr>\n",
       "      <th>1</th>\n",
       "      <td>Kumkum</td>\n",
       "      <td>कुमकुम</td>\n",
       "      <td>కుంకుమ</td>\n",
       "      <td>குங்குமம்</td>\n",
       "      <td>ಕುಮ್ಕುಮ್</td>\n",
       "      <td>कुमकुम</td>\n",
       "    </tr>\n",
       "  </tbody>\n",
       "</table>\n",
       "</div>"
      ],
      "text/plain": [
       "  English   Hindi  Telugu      Tamil   Kannada Marathi\n",
       "1  Kumkum  कुमकुम  కుంకుమ  குங்குமம்  ಕುಮ್ಕುಮ್  कुमकुम"
      ]
     },
     "execution_count": 21,
     "metadata": {},
     "output_type": "execute_result"
    }
   ],
   "source": [
    "df[df['English'] == 'Kumkum']"
   ]
  },
  {
   "cell_type": "code",
   "execution_count": 22,
   "metadata": {},
   "outputs": [],
   "source": [
    "b = {'Kumkum': ['baby_shower'], 'Chandan': ['baby_shower'], 'Gulal': ['baby_shower'], 'Coconut ': ['baby_shower'], 'Janoi ': ['baby_shower'], 'Nada Cheddi ': ['baby_shower'], 'Supari ': ['baby_shower'], 'Cotton balls': ['baby_shower'], 'Matchbox': ['baby_shower'], 'Ghee': ['baby_shower'], 'Clay Diya ': ['baby_shower'], 'Sweet': ['baby_shower'], 'Dry Fruits': ['baby_shower'], 'Dry coconut shell ': ['baby_shower'], 'Ganga jal': ['baby_shower'], 'Cloves ': ['baby_shower'], 'Cardamom ': ['baby_shower'], 'Pan patta= 10': ['baby_shower'], 'Flower ': ['baby_shower'], 'Fruits ': ['baby_shower'], 'Paper Napkins': ['baby_shower'], 'Disposable bowl': ['baby_shower'], 'Disposable plates': ['baby_shower'], 'Thali ': ['baby_shower'], 'Katori': ['baby_shower'], 'Spoons ': ['baby_shower'], 'Asan or sheet to sit on': ['baby_shower'], 'Other items according to your customs': ['baby_shower']}"
   ]
  },
  {
   "cell_type": "code",
   "execution_count": 37,
   "metadata": {},
   "outputs": [],
   "source": [
    "df2 = pd.DataFrame(b)"
   ]
  },
  {
   "cell_type": "code",
   "execution_count": 38,
   "metadata": {},
   "outputs": [],
   "source": [
    "df2 = df2.transpose().reset_index()\n"
   ]
  },
  {
   "cell_type": "code",
   "execution_count": 39,
   "metadata": {},
   "outputs": [],
   "source": [
    "df2.head()\n",
    "\n",
    "df2.columns = ['Items','Puja']"
   ]
  },
  {
   "cell_type": "code",
   "execution_count": 40,
   "metadata": {},
   "outputs": [
    {
     "data": {
      "text/html": [
       "<div>\n",
       "<style scoped>\n",
       "    .dataframe tbody tr th:only-of-type {\n",
       "        vertical-align: middle;\n",
       "    }\n",
       "\n",
       "    .dataframe tbody tr th {\n",
       "        vertical-align: top;\n",
       "    }\n",
       "\n",
       "    .dataframe thead th {\n",
       "        text-align: right;\n",
       "    }\n",
       "</style>\n",
       "<table border=\"1\" class=\"dataframe\">\n",
       "  <thead>\n",
       "    <tr style=\"text-align: right;\">\n",
       "      <th></th>\n",
       "      <th>Items</th>\n",
       "      <th>Puja</th>\n",
       "    </tr>\n",
       "  </thead>\n",
       "  <tbody>\n",
       "    <tr>\n",
       "      <th>0</th>\n",
       "      <td>Kumkum</td>\n",
       "      <td>baby_shower</td>\n",
       "    </tr>\n",
       "    <tr>\n",
       "      <th>1</th>\n",
       "      <td>Chandan</td>\n",
       "      <td>baby_shower</td>\n",
       "    </tr>\n",
       "    <tr>\n",
       "      <th>2</th>\n",
       "      <td>Gulal</td>\n",
       "      <td>baby_shower</td>\n",
       "    </tr>\n",
       "    <tr>\n",
       "      <th>3</th>\n",
       "      <td>Coconut</td>\n",
       "      <td>baby_shower</td>\n",
       "    </tr>\n",
       "    <tr>\n",
       "      <th>4</th>\n",
       "      <td>Janoi</td>\n",
       "      <td>baby_shower</td>\n",
       "    </tr>\n",
       "  </tbody>\n",
       "</table>\n",
       "</div>"
      ],
      "text/plain": [
       "      Items         Puja\n",
       "0    Kumkum  baby_shower\n",
       "1   Chandan  baby_shower\n",
       "2     Gulal  baby_shower\n",
       "3  Coconut   baby_shower\n",
       "4    Janoi   baby_shower"
      ]
     },
     "execution_count": 40,
     "metadata": {},
     "output_type": "execute_result"
    }
   ],
   "source": [
    "df2.head()"
   ]
  },
  {
   "cell_type": "code",
   "execution_count": null,
   "metadata": {},
   "outputs": [],
   "source": []
  }
 ],
 "metadata": {
  "kernelspec": {
   "display_name": "venv",
   "language": "python",
   "name": "python3"
  },
  "language_info": {
   "codemirror_mode": {
    "name": "ipython",
    "version": 3
   },
   "file_extension": ".py",
   "mimetype": "text/x-python",
   "name": "python",
   "nbconvert_exporter": "python",
   "pygments_lexer": "ipython3",
   "version": "3.10.12"
  },
  "orig_nbformat": 4
 },
 "nbformat": 4,
 "nbformat_minor": 2
}
